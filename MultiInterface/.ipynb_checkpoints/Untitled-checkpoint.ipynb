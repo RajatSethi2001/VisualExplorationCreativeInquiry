{
 "cells": [
  {
   "cell_type": "code",
   "execution_count": 1,
   "id": "25341461",
   "metadata": {},
   "outputs": [
    {
     "data": {
      "text/plain": [
       "(array([2.00000e+00, 0.00000e+00, 2.00000e+00, 0.00000e+00, 0.00000e+00,\n",
       "        2.00000e+00, 2.00000e+00, 1.00000e+00, 4.00000e+00, 6.00000e+00,\n",
       "        7.00000e+00, 7.00000e+00, 1.90000e+01, 1.10000e+01, 1.60000e+01,\n",
       "        2.20000e+01, 3.80000e+01, 3.00000e+01, 5.90000e+01, 7.70000e+01,\n",
       "        2.47000e+02, 1.58000e+02, 1.39000e+02, 3.20000e+02, 2.47000e+02,\n",
       "        3.44000e+02, 7.69000e+02, 9.70000e+02, 1.84800e+03, 2.50300e+03,\n",
       "        3.65500e+03, 6.92800e+03, 6.37100e+03, 9.03800e+03, 1.14410e+04,\n",
       "        1.64160e+04, 3.74480e+04, 2.63700e+04, 3.94070e+04, 1.48107e+05,\n",
       "        8.77630e+04, 3.53402e+05, 1.05954e+05, 5.35830e+04, 1.30104e+05,\n",
       "        2.45170e+04, 3.17800e+04, 2.34300e+04, 7.83100e+03, 6.81600e+03,\n",
       "        4.54100e+03, 4.73300e+03, 4.91900e+03, 3.16300e+03, 2.97300e+03,\n",
       "        2.70700e+03, 2.36800e+03, 1.67200e+03, 1.30600e+03, 1.06800e+03,\n",
       "        7.84000e+02, 7.16000e+02, 8.48000e+02, 3.22000e+02, 3.13000e+02,\n",
       "        3.02000e+02, 3.49000e+02, 8.41000e+02, 5.92000e+02, 5.63000e+02,\n",
       "        2.59300e+03, 1.28000e+03, 5.28800e+03, 2.05440e+04, 1.20500e+03,\n",
       "        1.64800e+03, 5.69000e+02, 5.33000e+02, 1.20300e+03, 2.79000e+02,\n",
       "        1.96000e+02, 8.70000e+01, 6.70000e+01, 1.46000e+02, 6.80000e+01,\n",
       "        6.40000e+01, 4.50000e+01, 2.00000e+01, 8.80000e+01, 1.40000e+01,\n",
       "        1.10000e+01, 8.00000e+00, 1.80000e+01, 5.00000e+00, 1.90000e+01,\n",
       "        1.00000e+01, 5.00000e+00, 0.00000e+00, 0.00000e+00, 2.00000e+00]),\n",
       " array([-4.18612006, -4.08592963, -3.98573921, -3.88554879, -3.78535837,\n",
       "        -3.68516795, -3.58497752, -3.4847871 , -3.38459668, -3.28440626,\n",
       "        -3.18421583, -3.08402541, -2.98383499, -2.88364457, -2.78345414,\n",
       "        -2.68326372, -2.5830733 , -2.48288288, -2.38269245, -2.28250203,\n",
       "        -2.18231161, -2.08212119, -1.98193076, -1.88174034, -1.78154992,\n",
       "        -1.6813595 , -1.58116907, -1.48097865, -1.38078823, -1.28059781,\n",
       "        -1.18040738, -1.08021696, -0.98002654, -0.87983612, -0.77964569,\n",
       "        -0.67945527, -0.57926485, -0.47907443, -0.378884  , -0.27869358,\n",
       "        -0.17850316, -0.07831274,  0.02187768,  0.12206811,  0.22225853,\n",
       "         0.32244895,  0.42263937,  0.5228298 ,  0.62302022,  0.72321064,\n",
       "         0.82340106,  0.92359149,  1.02378191,  1.12397233,  1.22416275,\n",
       "         1.32435318,  1.4245436 ,  1.52473402,  1.62492444,  1.72511487,\n",
       "         1.82530529,  1.92549571,  2.02568613,  2.12587656,  2.22606698,\n",
       "         2.3262574 ,  2.42644782,  2.52663825,  2.62682867,  2.72701909,\n",
       "         2.82720951,  2.92739994,  3.02759036,  3.12778078,  3.2279712 ,\n",
       "         3.32816162,  3.42835205,  3.52854247,  3.62873289,  3.72892331,\n",
       "         3.82911374,  3.92930416,  4.02949458,  4.129685  ,  4.22987543,\n",
       "         4.33006585,  4.43025627,  4.53044669,  4.63063712,  4.73082754,\n",
       "         4.83101796,  4.93120838,  5.03139881,  5.13158923,  5.23177965,\n",
       "         5.33197007,  5.4321605 ,  5.53235092,  5.63254134,  5.73273176,\n",
       "         5.83292219]),\n",
       " <a list of 100 Patch objects>)"
      ]
     },
     "execution_count": 1,
     "metadata": {},
     "output_type": "execute_result"
    },
    {
     "data": {
      "image/png": "[encoded data removed]",
      "text/plain": [
       "<Figure size 432x288 with 1 Axes>"
      ]
     },
     "metadata": {
      "needs_background": "light"
     },
     "output_type": "display_data"
    }
   ],
   "source": [
    "import igl\n",
    "import scipy as sp\n",
    "import numpy as np\n",
    "import matplotlib.pyplot as plt\n",
    "\n",
    "v, f = igl.read_triangle_mesh(\"contour1.ply\")\n",
    "k = igl.gaussian_curvature(v, f)\n",
    "\n",
    "k = np.delete(k, np.where(np.absolute(k) == 0.00))\n",
    "\n",
    "plt.hist(k, bins=100)"
   ]
  },
  {
   "cell_type": "code",
   "execution_count": null,
   "id": "b4b3815d",
   "metadata": {},
   "outputs": [],
   "source": []
  }
 ],
 "metadata": {
  "kernelspec": {
   "display_name": "Python 3 (ipykernel)",
   "language": "python",
   "name": "python3"
  },
  "language_info": {
   "codemirror_mode": {
    "name": "ipython",
    "version": 3
   },
   "file_extension": ".py",
   "mimetype": "text/x-python",
   "name": "python",
   "nbconvert_exporter": "python",
   "pygments_lexer": "ipython3",
   "version": "3.7.0"
  }
 },
 "nbformat": 4,
 "nbformat_minor": 5
}
