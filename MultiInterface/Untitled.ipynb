{
 "cells": [
  {
   "cell_type": "code",
   "execution_count": 3,
   "id": "25341461",
   "metadata": {},
   "outputs": [
    {
     "data": {
      "text/plain": [
       "(array([1.900000e+01, 2.860000e+02, 7.545000e+03, 3.051810e+05,\n",
       "        2.076955e+06, 2.945000e+04, 5.630000e+03, 3.514200e+04,\n",
       "        7.950000e+02, 7.800000e+01]),\n",
       " array([-4.18612006, -3.18421583, -2.18231161, -1.18040738, -0.17850316,\n",
       "         0.82340106,  1.82530529,  2.82720951,  3.82911374,  4.83101796,\n",
       "         5.83292219]),\n",
       " <a list of 10 Patch objects>)"
      ]
     },
     "execution_count": 3,
     "metadata": {},
     "output_type": "execute_result"
    },
    {
     "data": {
      "image/png": "[encoded data removed]",
      "text/plain": [
       "<Figure size 432x288 with 1 Axes>"
      ]
     },
     "metadata": {
      "needs_background": "light"
     },
     "output_type": "display_data"
    }
   ],
   "source": [
    "import igl\n",
    "import scipy as sp\n",
    "import numpy as np\n",
    "import matplotlib.pyplot as plt\n",
    "\n",
    "v, f = igl.read_triangle_mesh(\"contour1.ply\")\n",
    "k = igl.gaussian_curvature(v, f)\n",
    "\n",
    "k = np.delete(k, np.where(np.absolute(k) == 0.00))\n",
    "\n",
    "plt.hist(k)"
   ]
  },
  {
   "cell_type": "code",
   "execution_count": null,
   "id": "b4b3815d",
   "metadata": {},
   "outputs": [],
   "source": []
  }
 ],
 "metadata": {
  "kernelspec": {
   "display_name": "Python 3 (ipykernel)",
   "language": "python",
   "name": "python3"
  },
  "language_info": {
   "codemirror_mode": {
    "name": "ipython",
    "version": 3
   },
   "file_extension": ".py",
   "mimetype": "text/x-python",
   "name": "python",
   "nbconvert_exporter": "python",
   "pygments_lexer": "ipython3",
   "version": "3.7.0"
  }
 },
 "nbformat": 4,
 "nbformat_minor": 5
}
